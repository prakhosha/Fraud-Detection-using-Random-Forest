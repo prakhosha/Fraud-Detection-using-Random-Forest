{
 "cells": [
  {
   "cell_type": "markdown",
   "id": "5ff02886-89a3-42e6-8f33-5785d609f2d0",
   "metadata": {},
   "source": [
    "***\n",
    "\n",
    "# Fraud Detection using Random Forest\n",
    "\n",
    "*Posted on October 2022*\n",
    "\n",
    "***"
   ]
  },
  {
   "cell_type": "markdown",
   "id": "54d54fb3",
   "metadata": {
    "papermill": {
     "duration": 0.007224,
     "end_time": "2022-10-17T12:30:23.745536",
     "exception": false,
     "start_time": "2022-10-17T12:30:23.738312",
     "status": "completed"
    },
    "tags": []
   },
   "source": [
    "In this notebook I would like to implement fraud detection using random forest as its framework. The data I will use is provided by Aman Chauhan in this link: https://www.kaggle.com/datasets/whenamancodes/fraud-detection.\n",
    "\n",
    "The data consist of 31 columns with one column act as a class, one column is how long it takes for the user to input, and the other 29 is an output of a PCA transformation. Unfortunately, due to confidentiality the source cant provided any further information about the output of a PCA.\n",
    "\n",
    "First thing to do is load the data and look for any pattern"
   ]
  },
  {
   "cell_type": "code",
   "execution_count": 1,
   "id": "1c845073",
   "metadata": {
    "execution": {
     "iopub.execute_input": "2022-10-17T12:30:23.760166Z",
     "iopub.status.busy": "2022-10-17T12:30:23.759527Z",
     "iopub.status.idle": "2022-10-17T12:30:24.814105Z",
     "shell.execute_reply": "2022-10-17T12:30:24.813074Z"
    },
    "papermill": {
     "duration": 1.065713,
     "end_time": "2022-10-17T12:30:24.817330",
     "exception": false,
     "start_time": "2022-10-17T12:30:23.751617",
     "status": "completed"
    },
    "tags": []
   },
   "outputs": [],
   "source": [
    "import pandas as pd\n",
    "import seaborn as sb"
   ]
  },
  {
   "cell_type": "code",
   "execution_count": 2,
   "id": "8f9453bd",
   "metadata": {
    "execution": {
     "iopub.execute_input": "2022-10-17T12:30:24.831677Z",
     "iopub.status.busy": "2022-10-17T12:30:24.831273Z",
     "iopub.status.idle": "2022-10-17T12:30:29.561360Z",
     "shell.execute_reply": "2022-10-17T12:30:29.560321Z"
    },
    "papermill": {
     "duration": 4.740436,
     "end_time": "2022-10-17T12:30:29.563999",
     "exception": false,
     "start_time": "2022-10-17T12:30:24.823563",
     "status": "completed"
    },
    "tags": []
   },
   "outputs": [],
   "source": [
    "path_data = '../input/fraud-detection/creditcard.csv'\n",
    "\n",
    "df = pd.read_csv(path_data)"
   ]
  },
  {
   "cell_type": "code",
   "execution_count": 3,
   "id": "13343025",
   "metadata": {
    "execution": {
     "iopub.execute_input": "2022-10-17T12:30:29.578524Z",
     "iopub.status.busy": "2022-10-17T12:30:29.578108Z",
     "iopub.status.idle": "2022-10-17T12:30:29.593411Z",
     "shell.execute_reply": "2022-10-17T12:30:29.592189Z"
    },
    "papermill": {
     "duration": 0.026265,
     "end_time": "2022-10-17T12:30:29.596662",
     "exception": false,
     "start_time": "2022-10-17T12:30:29.570397",
     "status": "completed"
    },
    "tags": []
   },
   "outputs": [
    {
     "data": {
      "text/plain": [
       "Time      float64\n",
       "V1        float64\n",
       "V2        float64\n",
       "V3        float64\n",
       "V4        float64\n",
       "V5        float64\n",
       "V6        float64\n",
       "V7        float64\n",
       "V8        float64\n",
       "V9        float64\n",
       "V10       float64\n",
       "V11       float64\n",
       "V12       float64\n",
       "V13       float64\n",
       "V14       float64\n",
       "V15       float64\n",
       "V16       float64\n",
       "V17       float64\n",
       "V18       float64\n",
       "V19       float64\n",
       "V20       float64\n",
       "V21       float64\n",
       "V22       float64\n",
       "V23       float64\n",
       "V24       float64\n",
       "V25       float64\n",
       "V26       float64\n",
       "V27       float64\n",
       "V28       float64\n",
       "Amount    float64\n",
       "Class       int64\n",
       "dtype: object"
      ]
     },
     "execution_count": 3,
     "metadata": {},
     "output_type": "execute_result"
    }
   ],
   "source": [
    "df.dtypes"
   ]
  },
  {
   "cell_type": "code",
   "execution_count": 4,
   "id": "e9b1d2d5",
   "metadata": {
    "execution": {
     "iopub.execute_input": "2022-10-17T12:30:29.610826Z",
     "iopub.status.busy": "2022-10-17T12:30:29.610236Z",
     "iopub.status.idle": "2022-10-17T12:30:29.716841Z",
     "shell.execute_reply": "2022-10-17T12:30:29.715700Z"
    },
    "papermill": {
     "duration": 0.116478,
     "end_time": "2022-10-17T12:30:29.719381",
     "exception": false,
     "start_time": "2022-10-17T12:30:29.602903",
     "status": "completed"
    },
    "tags": []
   },
   "outputs": [
    {
     "data": {
      "text/html": [
       "<div>\n",
       "<style scoped>\n",
       "    .dataframe tbody tr th:only-of-type {\n",
       "        vertical-align: middle;\n",
       "    }\n",
       "\n",
       "    .dataframe tbody tr th {\n",
       "        vertical-align: top;\n",
       "    }\n",
       "\n",
       "    .dataframe thead th {\n",
       "        text-align: right;\n",
       "    }\n",
       "</style>\n",
       "<table border=\"1\" class=\"dataframe\">\n",
       "  <thead>\n",
       "    <tr style=\"text-align: right;\">\n",
       "      <th></th>\n",
       "      <th>Time</th>\n",
       "      <th>V1</th>\n",
       "      <th>V2</th>\n",
       "      <th>V3</th>\n",
       "      <th>V4</th>\n",
       "      <th>V5</th>\n",
       "      <th>V6</th>\n",
       "      <th>V7</th>\n",
       "      <th>V8</th>\n",
       "      <th>V9</th>\n",
       "      <th>...</th>\n",
       "      <th>V21</th>\n",
       "      <th>V22</th>\n",
       "      <th>V23</th>\n",
       "      <th>V24</th>\n",
       "      <th>V25</th>\n",
       "      <th>V26</th>\n",
       "      <th>V27</th>\n",
       "      <th>V28</th>\n",
       "      <th>Amount</th>\n",
       "      <th>Class</th>\n",
       "    </tr>\n",
       "  </thead>\n",
       "  <tbody>\n",
       "    <tr>\n",
       "      <th>0</th>\n",
       "      <td>0.0</td>\n",
       "      <td>-1.359807</td>\n",
       "      <td>-0.072781</td>\n",
       "      <td>2.536347</td>\n",
       "      <td>1.378155</td>\n",
       "      <td>-0.338321</td>\n",
       "      <td>0.462388</td>\n",
       "      <td>0.239599</td>\n",
       "      <td>0.098698</td>\n",
       "      <td>0.363787</td>\n",
       "      <td>...</td>\n",
       "      <td>-0.018307</td>\n",
       "      <td>0.277838</td>\n",
       "      <td>-0.110474</td>\n",
       "      <td>0.066928</td>\n",
       "      <td>0.128539</td>\n",
       "      <td>-0.189115</td>\n",
       "      <td>0.133558</td>\n",
       "      <td>-0.021053</td>\n",
       "      <td>149.62</td>\n",
       "      <td>0</td>\n",
       "    </tr>\n",
       "    <tr>\n",
       "      <th>1</th>\n",
       "      <td>0.0</td>\n",
       "      <td>1.191857</td>\n",
       "      <td>0.266151</td>\n",
       "      <td>0.166480</td>\n",
       "      <td>0.448154</td>\n",
       "      <td>0.060018</td>\n",
       "      <td>-0.082361</td>\n",
       "      <td>-0.078803</td>\n",
       "      <td>0.085102</td>\n",
       "      <td>-0.255425</td>\n",
       "      <td>...</td>\n",
       "      <td>-0.225775</td>\n",
       "      <td>-0.638672</td>\n",
       "      <td>0.101288</td>\n",
       "      <td>-0.339846</td>\n",
       "      <td>0.167170</td>\n",
       "      <td>0.125895</td>\n",
       "      <td>-0.008983</td>\n",
       "      <td>0.014724</td>\n",
       "      <td>2.69</td>\n",
       "      <td>0</td>\n",
       "    </tr>\n",
       "    <tr>\n",
       "      <th>2</th>\n",
       "      <td>1.0</td>\n",
       "      <td>-1.358354</td>\n",
       "      <td>-1.340163</td>\n",
       "      <td>1.773209</td>\n",
       "      <td>0.379780</td>\n",
       "      <td>-0.503198</td>\n",
       "      <td>1.800499</td>\n",
       "      <td>0.791461</td>\n",
       "      <td>0.247676</td>\n",
       "      <td>-1.514654</td>\n",
       "      <td>...</td>\n",
       "      <td>0.247998</td>\n",
       "      <td>0.771679</td>\n",
       "      <td>0.909412</td>\n",
       "      <td>-0.689281</td>\n",
       "      <td>-0.327642</td>\n",
       "      <td>-0.139097</td>\n",
       "      <td>-0.055353</td>\n",
       "      <td>-0.059752</td>\n",
       "      <td>378.66</td>\n",
       "      <td>0</td>\n",
       "    </tr>\n",
       "    <tr>\n",
       "      <th>3</th>\n",
       "      <td>1.0</td>\n",
       "      <td>-0.966272</td>\n",
       "      <td>-0.185226</td>\n",
       "      <td>1.792993</td>\n",
       "      <td>-0.863291</td>\n",
       "      <td>-0.010309</td>\n",
       "      <td>1.247203</td>\n",
       "      <td>0.237609</td>\n",
       "      <td>0.377436</td>\n",
       "      <td>-1.387024</td>\n",
       "      <td>...</td>\n",
       "      <td>-0.108300</td>\n",
       "      <td>0.005274</td>\n",
       "      <td>-0.190321</td>\n",
       "      <td>-1.175575</td>\n",
       "      <td>0.647376</td>\n",
       "      <td>-0.221929</td>\n",
       "      <td>0.062723</td>\n",
       "      <td>0.061458</td>\n",
       "      <td>123.50</td>\n",
       "      <td>0</td>\n",
       "    </tr>\n",
       "    <tr>\n",
       "      <th>4</th>\n",
       "      <td>2.0</td>\n",
       "      <td>-1.158233</td>\n",
       "      <td>0.877737</td>\n",
       "      <td>1.548718</td>\n",
       "      <td>0.403034</td>\n",
       "      <td>-0.407193</td>\n",
       "      <td>0.095921</td>\n",
       "      <td>0.592941</td>\n",
       "      <td>-0.270533</td>\n",
       "      <td>0.817739</td>\n",
       "      <td>...</td>\n",
       "      <td>-0.009431</td>\n",
       "      <td>0.798278</td>\n",
       "      <td>-0.137458</td>\n",
       "      <td>0.141267</td>\n",
       "      <td>-0.206010</td>\n",
       "      <td>0.502292</td>\n",
       "      <td>0.219422</td>\n",
       "      <td>0.215153</td>\n",
       "      <td>69.99</td>\n",
       "      <td>0</td>\n",
       "    </tr>\n",
       "    <tr>\n",
       "      <th>...</th>\n",
       "      <td>...</td>\n",
       "      <td>...</td>\n",
       "      <td>...</td>\n",
       "      <td>...</td>\n",
       "      <td>...</td>\n",
       "      <td>...</td>\n",
       "      <td>...</td>\n",
       "      <td>...</td>\n",
       "      <td>...</td>\n",
       "      <td>...</td>\n",
       "      <td>...</td>\n",
       "      <td>...</td>\n",
       "      <td>...</td>\n",
       "      <td>...</td>\n",
       "      <td>...</td>\n",
       "      <td>...</td>\n",
       "      <td>...</td>\n",
       "      <td>...</td>\n",
       "      <td>...</td>\n",
       "      <td>...</td>\n",
       "      <td>...</td>\n",
       "    </tr>\n",
       "    <tr>\n",
       "      <th>284802</th>\n",
       "      <td>172786.0</td>\n",
       "      <td>-11.881118</td>\n",
       "      <td>10.071785</td>\n",
       "      <td>-9.834783</td>\n",
       "      <td>-2.066656</td>\n",
       "      <td>-5.364473</td>\n",
       "      <td>-2.606837</td>\n",
       "      <td>-4.918215</td>\n",
       "      <td>7.305334</td>\n",
       "      <td>1.914428</td>\n",
       "      <td>...</td>\n",
       "      <td>0.213454</td>\n",
       "      <td>0.111864</td>\n",
       "      <td>1.014480</td>\n",
       "      <td>-0.509348</td>\n",
       "      <td>1.436807</td>\n",
       "      <td>0.250034</td>\n",
       "      <td>0.943651</td>\n",
       "      <td>0.823731</td>\n",
       "      <td>0.77</td>\n",
       "      <td>0</td>\n",
       "    </tr>\n",
       "    <tr>\n",
       "      <th>284803</th>\n",
       "      <td>172787.0</td>\n",
       "      <td>-0.732789</td>\n",
       "      <td>-0.055080</td>\n",
       "      <td>2.035030</td>\n",
       "      <td>-0.738589</td>\n",
       "      <td>0.868229</td>\n",
       "      <td>1.058415</td>\n",
       "      <td>0.024330</td>\n",
       "      <td>0.294869</td>\n",
       "      <td>0.584800</td>\n",
       "      <td>...</td>\n",
       "      <td>0.214205</td>\n",
       "      <td>0.924384</td>\n",
       "      <td>0.012463</td>\n",
       "      <td>-1.016226</td>\n",
       "      <td>-0.606624</td>\n",
       "      <td>-0.395255</td>\n",
       "      <td>0.068472</td>\n",
       "      <td>-0.053527</td>\n",
       "      <td>24.79</td>\n",
       "      <td>0</td>\n",
       "    </tr>\n",
       "    <tr>\n",
       "      <th>284804</th>\n",
       "      <td>172788.0</td>\n",
       "      <td>1.919565</td>\n",
       "      <td>-0.301254</td>\n",
       "      <td>-3.249640</td>\n",
       "      <td>-0.557828</td>\n",
       "      <td>2.630515</td>\n",
       "      <td>3.031260</td>\n",
       "      <td>-0.296827</td>\n",
       "      <td>0.708417</td>\n",
       "      <td>0.432454</td>\n",
       "      <td>...</td>\n",
       "      <td>0.232045</td>\n",
       "      <td>0.578229</td>\n",
       "      <td>-0.037501</td>\n",
       "      <td>0.640134</td>\n",
       "      <td>0.265745</td>\n",
       "      <td>-0.087371</td>\n",
       "      <td>0.004455</td>\n",
       "      <td>-0.026561</td>\n",
       "      <td>67.88</td>\n",
       "      <td>0</td>\n",
       "    </tr>\n",
       "    <tr>\n",
       "      <th>284805</th>\n",
       "      <td>172788.0</td>\n",
       "      <td>-0.240440</td>\n",
       "      <td>0.530483</td>\n",
       "      <td>0.702510</td>\n",
       "      <td>0.689799</td>\n",
       "      <td>-0.377961</td>\n",
       "      <td>0.623708</td>\n",
       "      <td>-0.686180</td>\n",
       "      <td>0.679145</td>\n",
       "      <td>0.392087</td>\n",
       "      <td>...</td>\n",
       "      <td>0.265245</td>\n",
       "      <td>0.800049</td>\n",
       "      <td>-0.163298</td>\n",
       "      <td>0.123205</td>\n",
       "      <td>-0.569159</td>\n",
       "      <td>0.546668</td>\n",
       "      <td>0.108821</td>\n",
       "      <td>0.104533</td>\n",
       "      <td>10.00</td>\n",
       "      <td>0</td>\n",
       "    </tr>\n",
       "    <tr>\n",
       "      <th>284806</th>\n",
       "      <td>172792.0</td>\n",
       "      <td>-0.533413</td>\n",
       "      <td>-0.189733</td>\n",
       "      <td>0.703337</td>\n",
       "      <td>-0.506271</td>\n",
       "      <td>-0.012546</td>\n",
       "      <td>-0.649617</td>\n",
       "      <td>1.577006</td>\n",
       "      <td>-0.414650</td>\n",
       "      <td>0.486180</td>\n",
       "      <td>...</td>\n",
       "      <td>0.261057</td>\n",
       "      <td>0.643078</td>\n",
       "      <td>0.376777</td>\n",
       "      <td>0.008797</td>\n",
       "      <td>-0.473649</td>\n",
       "      <td>-0.818267</td>\n",
       "      <td>-0.002415</td>\n",
       "      <td>0.013649</td>\n",
       "      <td>217.00</td>\n",
       "      <td>0</td>\n",
       "    </tr>\n",
       "  </tbody>\n",
       "</table>\n",
       "<p>284807 rows × 31 columns</p>\n",
       "</div>"
      ],
      "text/plain": [
       "            Time         V1         V2        V3        V4        V5  \\\n",
       "0            0.0  -1.359807  -0.072781  2.536347  1.378155 -0.338321   \n",
       "1            0.0   1.191857   0.266151  0.166480  0.448154  0.060018   \n",
       "2            1.0  -1.358354  -1.340163  1.773209  0.379780 -0.503198   \n",
       "3            1.0  -0.966272  -0.185226  1.792993 -0.863291 -0.010309   \n",
       "4            2.0  -1.158233   0.877737  1.548718  0.403034 -0.407193   \n",
       "...          ...        ...        ...       ...       ...       ...   \n",
       "284802  172786.0 -11.881118  10.071785 -9.834783 -2.066656 -5.364473   \n",
       "284803  172787.0  -0.732789  -0.055080  2.035030 -0.738589  0.868229   \n",
       "284804  172788.0   1.919565  -0.301254 -3.249640 -0.557828  2.630515   \n",
       "284805  172788.0  -0.240440   0.530483  0.702510  0.689799 -0.377961   \n",
       "284806  172792.0  -0.533413  -0.189733  0.703337 -0.506271 -0.012546   \n",
       "\n",
       "              V6        V7        V8        V9  ...       V21       V22  \\\n",
       "0       0.462388  0.239599  0.098698  0.363787  ... -0.018307  0.277838   \n",
       "1      -0.082361 -0.078803  0.085102 -0.255425  ... -0.225775 -0.638672   \n",
       "2       1.800499  0.791461  0.247676 -1.514654  ...  0.247998  0.771679   \n",
       "3       1.247203  0.237609  0.377436 -1.387024  ... -0.108300  0.005274   \n",
       "4       0.095921  0.592941 -0.270533  0.817739  ... -0.009431  0.798278   \n",
       "...          ...       ...       ...       ...  ...       ...       ...   \n",
       "284802 -2.606837 -4.918215  7.305334  1.914428  ...  0.213454  0.111864   \n",
       "284803  1.058415  0.024330  0.294869  0.584800  ...  0.214205  0.924384   \n",
       "284804  3.031260 -0.296827  0.708417  0.432454  ...  0.232045  0.578229   \n",
       "284805  0.623708 -0.686180  0.679145  0.392087  ...  0.265245  0.800049   \n",
       "284806 -0.649617  1.577006 -0.414650  0.486180  ...  0.261057  0.643078   \n",
       "\n",
       "             V23       V24       V25       V26       V27       V28  Amount  \\\n",
       "0      -0.110474  0.066928  0.128539 -0.189115  0.133558 -0.021053  149.62   \n",
       "1       0.101288 -0.339846  0.167170  0.125895 -0.008983  0.014724    2.69   \n",
       "2       0.909412 -0.689281 -0.327642 -0.139097 -0.055353 -0.059752  378.66   \n",
       "3      -0.190321 -1.175575  0.647376 -0.221929  0.062723  0.061458  123.50   \n",
       "4      -0.137458  0.141267 -0.206010  0.502292  0.219422  0.215153   69.99   \n",
       "...          ...       ...       ...       ...       ...       ...     ...   \n",
       "284802  1.014480 -0.509348  1.436807  0.250034  0.943651  0.823731    0.77   \n",
       "284803  0.012463 -1.016226 -0.606624 -0.395255  0.068472 -0.053527   24.79   \n",
       "284804 -0.037501  0.640134  0.265745 -0.087371  0.004455 -0.026561   67.88   \n",
       "284805 -0.163298  0.123205 -0.569159  0.546668  0.108821  0.104533   10.00   \n",
       "284806  0.376777  0.008797 -0.473649 -0.818267 -0.002415  0.013649  217.00   \n",
       "\n",
       "        Class  \n",
       "0           0  \n",
       "1           0  \n",
       "2           0  \n",
       "3           0  \n",
       "4           0  \n",
       "...       ...  \n",
       "284802      0  \n",
       "284803      0  \n",
       "284804      0  \n",
       "284805      0  \n",
       "284806      0  \n",
       "\n",
       "[284807 rows x 31 columns]"
      ]
     },
     "execution_count": 4,
     "metadata": {},
     "output_type": "execute_result"
    }
   ],
   "source": [
    "df"
   ]
  },
  {
   "cell_type": "code",
   "execution_count": 5,
   "id": "9273b23d",
   "metadata": {
    "execution": {
     "iopub.execute_input": "2022-10-17T12:30:29.734936Z",
     "iopub.status.busy": "2022-10-17T12:30:29.734473Z",
     "iopub.status.idle": "2022-10-17T12:30:29.761925Z",
     "shell.execute_reply": "2022-10-17T12:30:29.760601Z"
    },
    "papermill": {
     "duration": 0.038029,
     "end_time": "2022-10-17T12:30:29.764358",
     "exception": false,
     "start_time": "2022-10-17T12:30:29.726329",
     "status": "completed"
    },
    "tags": []
   },
   "outputs": [
    {
     "data": {
      "text/plain": [
       "Time      0\n",
       "V1        0\n",
       "V2        0\n",
       "V3        0\n",
       "V4        0\n",
       "V5        0\n",
       "V6        0\n",
       "V7        0\n",
       "V8        0\n",
       "V9        0\n",
       "V10       0\n",
       "V11       0\n",
       "V12       0\n",
       "V13       0\n",
       "V14       0\n",
       "V15       0\n",
       "V16       0\n",
       "V17       0\n",
       "V18       0\n",
       "V19       0\n",
       "V20       0\n",
       "V21       0\n",
       "V22       0\n",
       "V23       0\n",
       "V24       0\n",
       "V25       0\n",
       "V26       0\n",
       "V27       0\n",
       "V28       0\n",
       "Amount    0\n",
       "Class     0\n",
       "dtype: int64"
      ]
     },
     "execution_count": 5,
     "metadata": {},
     "output_type": "execute_result"
    }
   ],
   "source": [
    "df.isna().sum()"
   ]
  },
  {
   "cell_type": "markdown",
   "id": "9ad7a38a",
   "metadata": {
    "papermill": {
     "duration": 0.006573,
     "end_time": "2022-10-17T12:30:29.777938",
     "exception": false,
     "start_time": "2022-10-17T12:30:29.771365",
     "status": "completed"
    },
    "tags": []
   },
   "source": [
    "As we can see there are no missing values on the data"
   ]
  },
  {
   "cell_type": "code",
   "execution_count": 6,
   "id": "479d608e",
   "metadata": {
    "execution": {
     "iopub.execute_input": "2022-10-17T12:30:29.793673Z",
     "iopub.status.busy": "2022-10-17T12:30:29.793249Z",
     "iopub.status.idle": "2022-10-17T12:30:30.077516Z",
     "shell.execute_reply": "2022-10-17T12:30:30.076366Z"
    },
    "papermill": {
     "duration": 0.295361,
     "end_time": "2022-10-17T12:30:30.080105",
     "exception": false,
     "start_time": "2022-10-17T12:30:29.784744",
     "status": "completed"
    },
    "tags": []
   },
   "outputs": [
    {
     "data": {
      "text/plain": [
       "<AxesSubplot:xlabel='Class', ylabel='Time'>"
      ]
     },
     "execution_count": 6,
     "metadata": {},
     "output_type": "execute_result"
    },
    {
     "data": {
      "image/png": "[encoded data removed]",
      "text/plain": [
       "<Figure size 432x288 with 1 Axes>"
      ]
     },
     "metadata": {
      "needs_background": "light"
     },
     "output_type": "display_data"
    }
   ],
   "source": [
    "sb.boxplot(data=df, x=\"Class\", y=\"Time\")"
   ]
  },
  {
   "cell_type": "markdown",
   "id": "a5b20b3c",
   "metadata": {
    "papermill": {
     "duration": 0.006909,
     "end_time": "2022-10-17T12:30:30.095092",
     "exception": false,
     "start_time": "2022-10-17T12:30:30.088183",
     "status": "completed"
    },
    "tags": []
   },
   "source": [
    "Here we can see that between an input that considered a fraud and non-fraud, there is no particular difference in time features. With this in mind, I then remove time features from our detection model"
   ]
  },
  {
   "cell_type": "code",
   "execution_count": 7,
   "id": "e2fa16ae",
   "metadata": {
    "execution": {
     "iopub.execute_input": "2022-10-17T12:30:30.111743Z",
     "iopub.status.busy": "2022-10-17T12:30:30.110690Z",
     "iopub.status.idle": "2022-10-17T12:30:30.457923Z",
     "shell.execute_reply": "2022-10-17T12:30:30.456942Z"
    },
    "papermill": {
     "duration": 0.357994,
     "end_time": "2022-10-17T12:30:30.460318",
     "exception": false,
     "start_time": "2022-10-17T12:30:30.102324",
     "status": "completed"
    },
    "tags": []
   },
   "outputs": [
    {
     "data": {
      "text/plain": [
       "<AxesSubplot:xlabel='Class', ylabel='Amount'>"
      ]
     },
     "execution_count": 7,
     "metadata": {},
     "output_type": "execute_result"
    },
    {
     "data": {
      "image/png": "[encoded data removed]",
      "text/plain": [
       "<Figure size 432x288 with 1 Axes>"
      ]
     },
     "metadata": {
      "needs_background": "light"
     },
     "output_type": "display_data"
    }
   ],
   "source": [
    "sb.boxplot(data=df, x=\"Class\", y=\"Amount\")"
   ]
  },
  {
   "cell_type": "markdown",
   "id": "92056a91",
   "metadata": {
    "papermill": {
     "duration": 0.007174,
     "end_time": "2022-10-17T12:30:30.475013",
     "exception": false,
     "start_time": "2022-10-17T12:30:30.467839",
     "status": "completed"
    },
    "tags": []
   },
   "source": [
    "Here is the same boxplot analysis but for different feature which is amount. Visually, we can a clear different between fraud and non-fraud input."
   ]
  },
  {
   "cell_type": "code",
   "execution_count": 8,
   "id": "25b89ea4",
   "metadata": {
    "execution": {
     "iopub.execute_input": "2022-10-17T12:30:30.493186Z",
     "iopub.status.busy": "2022-10-17T12:30:30.492261Z",
     "iopub.status.idle": "2022-10-17T12:30:30.506766Z",
     "shell.execute_reply": "2022-10-17T12:30:30.505933Z"
    },
    "papermill": {
     "duration": 0.025323,
     "end_time": "2022-10-17T12:30:30.508911",
     "exception": false,
     "start_time": "2022-10-17T12:30:30.483588",
     "status": "completed"
    },
    "tags": []
   },
   "outputs": [
    {
     "data": {
      "text/plain": [
       "0    284315\n",
       "1       492\n",
       "Name: Class, dtype: int64"
      ]
     },
     "execution_count": 8,
     "metadata": {},
     "output_type": "execute_result"
    }
   ],
   "source": [
    "df['Class'].value_counts()"
   ]
  },
  {
   "cell_type": "markdown",
   "id": "aeb3fea1",
   "metadata": {
    "papermill": {
     "duration": 0.007255,
     "end_time": "2022-10-17T12:30:30.523772",
     "exception": false,
     "start_time": "2022-10-17T12:30:30.516517",
     "status": "completed"
    },
    "tags": []
   },
   "source": [
    "The dataset is considered unbalanced because there are 284315 non-fraud data while there are only 492 data that can be considered as fraud. With this in mind, I will incorporate weighting to the random forest model."
   ]
  },
  {
   "cell_type": "code",
   "execution_count": 9,
   "id": "de44f8ca",
   "metadata": {
    "execution": {
     "iopub.execute_input": "2022-10-17T12:30:30.541062Z",
     "iopub.status.busy": "2022-10-17T12:30:30.540608Z",
     "iopub.status.idle": "2022-10-17T12:30:30.570784Z",
     "shell.execute_reply": "2022-10-17T12:30:30.569354Z"
    },
    "papermill": {
     "duration": 0.042014,
     "end_time": "2022-10-17T12:30:30.573489",
     "exception": false,
     "start_time": "2022-10-17T12:30:30.531475",
     "status": "completed"
    },
    "tags": []
   },
   "outputs": [],
   "source": [
    "y = df['Class']\n",
    "X = df.drop(['Class', 'Time'], axis=1)"
   ]
  },
  {
   "cell_type": "markdown",
   "id": "87ee6175",
   "metadata": {
    "papermill": {
     "duration": 0.008135,
     "end_time": "2022-10-17T12:30:30.589504",
     "exception": false,
     "start_time": "2022-10-17T12:30:30.581369",
     "status": "completed"
    },
    "tags": []
   },
   "source": [
    "Next, I divide the data into training and test data"
   ]
  },
  {
   "cell_type": "code",
   "execution_count": 10,
   "id": "af662d8e",
   "metadata": {
    "execution": {
     "iopub.execute_input": "2022-10-17T12:30:30.608806Z",
     "iopub.status.busy": "2022-10-17T12:30:30.607969Z",
     "iopub.status.idle": "2022-10-17T12:30:30.915798Z",
     "shell.execute_reply": "2022-10-17T12:30:30.914457Z"
    },
    "papermill": {
     "duration": 0.320146,
     "end_time": "2022-10-17T12:30:30.918670",
     "exception": false,
     "start_time": "2022-10-17T12:30:30.598524",
     "status": "completed"
    },
    "tags": []
   },
   "outputs": [],
   "source": [
    "from sklearn.model_selection import train_test_split\n",
    "\n",
    "X_train, X_test, y_train, y_test = train_test_split(X, y, test_size=0.33, random_state=1)"
   ]
  },
  {
   "cell_type": "markdown",
   "id": "32863f16",
   "metadata": {
    "papermill": {
     "duration": 0.007825,
     "end_time": "2022-10-17T12:30:30.934562",
     "exception": false,
     "start_time": "2022-10-17T12:30:30.926737",
     "status": "completed"
    },
    "tags": []
   },
   "source": [
    "Our amount feature is still in the range that is not the same as any other features, so we need to scale this feaure."
   ]
  },
  {
   "cell_type": "code",
   "execution_count": 11,
   "id": "99364f7c",
   "metadata": {
    "execution": {
     "iopub.execute_input": "2022-10-17T12:30:30.952505Z",
     "iopub.status.busy": "2022-10-17T12:30:30.952042Z",
     "iopub.status.idle": "2022-10-17T12:30:31.283920Z",
     "shell.execute_reply": "2022-10-17T12:30:31.282539Z"
    },
    "papermill": {
     "duration": 0.343837,
     "end_time": "2022-10-17T12:30:31.286809",
     "exception": false,
     "start_time": "2022-10-17T12:30:30.942972",
     "status": "completed"
    },
    "tags": []
   },
   "outputs": [],
   "source": [
    "from sklearn.compose import ColumnTransformer\n",
    "from sklearn.preprocessing import RobustScaler\n",
    "\n",
    "column_trans = ColumnTransformer(\n",
    "    [('Scaler', RobustScaler(), X_train.columns)])\n",
    "\n",
    "X_train = column_trans.fit_transform(X_train)\n",
    "X_test = column_trans.transform(X_test)"
   ]
  },
  {
   "cell_type": "markdown",
   "id": "689dfa5f",
   "metadata": {
    "papermill": {
     "duration": 0.007298,
     "end_time": "2022-10-17T12:30:31.301905",
     "exception": false,
     "start_time": "2022-10-17T12:30:31.294607",
     "status": "completed"
    },
    "tags": []
   },
   "source": [
    "I use grid search to find the best parameter for the model"
   ]
  },
  {
   "cell_type": "code",
   "execution_count": 12,
   "id": "7aa11045",
   "metadata": {
    "execution": {
     "iopub.execute_input": "2022-10-17T12:30:31.318652Z",
     "iopub.status.busy": "2022-10-17T12:30:31.318260Z",
     "iopub.status.idle": "2022-10-17T13:15:30.843209Z",
     "shell.execute_reply": "2022-10-17T13:15:30.842201Z"
    },
    "papermill": {
     "duration": 2699.544542,
     "end_time": "2022-10-17T13:15:30.854012",
     "exception": false,
     "start_time": "2022-10-17T12:30:31.309470",
     "status": "completed"
    },
    "tags": []
   },
   "outputs": [
    {
     "name": "stdout",
     "output_type": "stream",
     "text": [
      "0.8472833881463154\n",
      "RandomForestClassifier(class_weight='balanced_subsample', criterion='entropy',\n",
      "                       max_depth=8)\n"
     ]
    }
   ],
   "source": [
    "# grid search\n",
    "from sklearn.ensemble import RandomForestClassifier\n",
    "from sklearn.model_selection import GridSearchCV\n",
    "from sklearn.metrics import f1_score, make_scorer\n",
    "\n",
    "scorer = make_scorer(f1_score)\n",
    "\n",
    "params = {\"criterion\": [\"gini\", \"entropy\"],\n",
    "          \"max_depth\": [8, 4],\n",
    "          \"class_weight\": [\"balanced\", \"balanced_subsample\"]\n",
    "          }\n",
    "\n",
    "grid = GridSearchCV(estimator=RandomForestClassifier(), param_grid=params, error_score='raise', scoring=scorer)\n",
    "grid.fit(X_train, y_train.values)\n",
    "print(grid.best_score_)\n",
    "print(grid.best_estimator_)"
   ]
  },
  {
   "cell_type": "markdown",
   "id": "d878a06f",
   "metadata": {
    "papermill": {
     "duration": 0.008092,
     "end_time": "2022-10-17T13:15:30.870937",
     "exception": false,
     "start_time": "2022-10-17T13:15:30.862845",
     "status": "completed"
    },
    "tags": []
   },
   "source": [
    "The best parameter for the random forest model turn out to be 8 depth random forest, with entropy as its criterion and balanced subsample to weight the unbalance dataset\n",
    "\n",
    "Lets use this parameter as our parameter in the actual model"
   ]
  },
  {
   "cell_type": "code",
   "execution_count": 13,
   "id": "b0f06a70",
   "metadata": {
    "execution": {
     "iopub.execute_input": "2022-10-17T13:15:30.889082Z",
     "iopub.status.busy": "2022-10-17T13:15:30.888384Z",
     "iopub.status.idle": "2022-10-17T13:17:20.856162Z",
     "shell.execute_reply": "2022-10-17T13:17:20.854695Z"
    },
    "papermill": {
     "duration": 109.983944,
     "end_time": "2022-10-17T13:17:20.862769",
     "exception": false,
     "start_time": "2022-10-17T13:15:30.878825",
     "status": "completed"
    },
    "tags": []
   },
   "outputs": [
    {
     "name": "stdout",
     "output_type": "stream",
     "text": [
      "F1 score: 0.8169014084507041\n"
     ]
    }
   ],
   "source": [
    "from sklearn.metrics import f1_score\n",
    "from sklearn.pipeline import Pipeline\n",
    "\n",
    "# define the model\n",
    "model = Pipeline([('RandomForest', RandomForestClassifier(class_weight='balanced_subsample', criterion='entropy',max_depth=8)),\n",
    "                  ])\n",
    "model.fit(X_train, y_train)\n",
    "# predict on test set\n",
    "yhat = model.predict(X_test)\n",
    "# evaluate predictions\n",
    "f1 = f1_score(y_test, yhat)\n",
    "print('F1 score: {}'.format(f1))"
   ]
  },
  {
   "cell_type": "markdown",
   "id": "d0fc8f12",
   "metadata": {
    "papermill": {
     "duration": 0.007389,
     "end_time": "2022-10-17T13:17:20.877742",
     "exception": false,
     "start_time": "2022-10-17T13:17:20.870353",
     "status": "completed"
    },
    "tags": []
   },
   "source": [
    "This give us a fraud detection model with F1 score of about 0.81"
   ]
  },
  {
   "cell_type": "code",
   "execution_count": 14,
   "id": "2cd58b37",
   "metadata": {
    "execution": {
     "iopub.execute_input": "2022-10-17T13:17:20.894880Z",
     "iopub.status.busy": "2022-10-17T13:17:20.894476Z",
     "iopub.status.idle": "2022-10-17T13:17:21.042957Z",
     "shell.execute_reply": "2022-10-17T13:17:21.041382Z"
    },
    "papermill": {
     "duration": 0.160719,
     "end_time": "2022-10-17T13:17:21.046098",
     "exception": false,
     "start_time": "2022-10-17T13:17:20.885379",
     "status": "completed"
    },
    "tags": []
   },
   "outputs": [
    {
     "name": "stdout",
     "output_type": "stream",
     "text": [
      "              precision    recall  f1-score   support\n",
      "\n",
      "           0       1.00      1.00      1.00     93839\n",
      "           1       0.85      0.78      0.82       148\n",
      "\n",
      "    accuracy                           1.00     93987\n",
      "   macro avg       0.93      0.89      0.91     93987\n",
      "weighted avg       1.00      1.00      1.00     93987\n",
      "\n"
     ]
    }
   ],
   "source": [
    "from sklearn.metrics import classification_report\n",
    "\n",
    "print(classification_report(y_test, yhat))"
   ]
  },
  {
   "cell_type": "code",
   "execution_count": 15,
   "id": "48bb0a2d",
   "metadata": {
    "execution": {
     "iopub.execute_input": "2022-10-17T13:17:21.064708Z",
     "iopub.status.busy": "2022-10-17T13:17:21.064297Z",
     "iopub.status.idle": "2022-10-17T13:17:21.338536Z",
     "shell.execute_reply": "2022-10-17T13:17:21.337318Z"
    },
    "papermill": {
     "duration": 0.286066,
     "end_time": "2022-10-17T13:17:21.340978",
     "exception": false,
     "start_time": "2022-10-17T13:17:21.054912",
     "status": "completed"
    },
    "tags": []
   },
   "outputs": [
    {
     "data": {
      "text/plain": [
       "<AxesSubplot:>"
      ]
     },
     "execution_count": 15,
     "metadata": {},
     "output_type": "execute_result"
    },
    {
     "data": {
      "image/png": "[encoded data removed]",
      "text/plain": [
       "<Figure size 432x288 with 2 Axes>"
      ]
     },
     "metadata": {
      "needs_background": "light"
     },
     "output_type": "display_data"
    }
   ],
   "source": [
    "from sklearn.metrics import confusion_matrix\n",
    "\n",
    "cm = pd.DataFrame(confusion_matrix(y_test, yhat))\n",
    "cm.columns = ['Predict negative', 'Predict positive']\n",
    "cm.index = ['Actual negative', 'Actial positive']\n",
    "cm.iloc[0] = cm.iloc[0]/cm.sum(axis=1)[0]\n",
    "cm.iloc[1] = cm.iloc[1]/cm.sum(axis=1)[1]\n",
    "\n",
    "sb.heatmap(cm, annot=True, cmap='Blues', fmt='.2%')"
   ]
  },
  {
   "cell_type": "markdown",
   "id": "ec5be7a9",
   "metadata": {
    "papermill": {
     "duration": 0.008513,
     "end_time": "2022-10-17T13:17:21.358026",
     "exception": false,
     "start_time": "2022-10-17T13:17:21.349513",
     "status": "completed"
    },
    "tags": []
   },
   "source": [
    "The performance of the model can also be viewed as a confusion matrix. As you can see the model successfully predict 99.98% of the non-fraud data and 78.38% of the fraud data."
   ]
  }
 ],
 "metadata": {
  "kernelspec": {
   "display_name": "Python 3 (ipykernel)",
   "language": "python",
   "name": "python3"
  },
  "language_info": {
   "codemirror_mode": {
    "name": "ipython",
    "version": 3
   },
   "file_extension": ".py",
   "mimetype": "text/x-python",
   "name": "python",
   "nbconvert_exporter": "python",
   "pygments_lexer": "ipython3",
   "version": "3.11.5"
  },
  "papermill": {
   "default_parameters": {},
   "duration": 2828.713787,
   "end_time": "2022-10-17T13:17:22.211682",
   "environment_variables": {},
   "exception": null,
   "input_path": "__notebook__.ipynb",
   "output_path": "__notebook__.ipynb",
   "parameters": {},
   "start_time": "2022-10-17T12:30:13.497895",
   "version": "2.3.4"
  }
 },
 "nbformat": 4,
 "nbformat_minor": 5
}
